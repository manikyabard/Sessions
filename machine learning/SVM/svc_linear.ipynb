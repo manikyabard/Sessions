{
 "cells": [
  {
   "cell_type": "markdown",
   "metadata": {},
   "source": [
    "In this notebook, we will be looking at using support vector machines for large-margin classification. We'll code from scratch, using only the numpy and matplotlib libraries.\n",
    "This notebook will also be using a library called jdc, but this is only to include the \"add_to class\" magic. We'll be using a class to create our support vector machine, which could lead to us having a huge chunk of code in a single cell. The aforementioned magic allows you to avoid this by adding code from different cells to a particular class."
   ]
  },
  {
   "cell_type": "markdown",
   "metadata": {},
   "source": [
    "# Imports"
   ]
  },
  {
   "cell_type": "code",
   "execution_count": 1,
   "metadata": {},
   "outputs": [],
   "source": [
    "import matplotlib.pyplot as plt\n",
    "import numpy as np\n",
    "import jdc\n",
    "%matplotlib inline"
   ]
  },
  {
   "cell_type": "markdown",
   "metadata": {},
   "source": [
    "# Class definition\n",
    "We'll create a class called Support_Vector_Machine, and we'll define our positive classifications to be red and our negative ones to be blue. We'll also initialize a pyplot figure and subplot."
   ]
  },
  {
   "cell_type": "code",
   "execution_count": 2,
   "metadata": {},
   "outputs": [],
   "source": [
    "class Support_Vector_Machine:\n",
    "    def __init__(self):\n",
    "        self.colors = {1: 'r', -1: 'b'}\n",
    "        self.fig = plt.figure()\n",
    "        self.ax = self.fig.add_subplot(1, 1, 1)"
   ]
  },
  {
   "cell_type": "markdown",
   "metadata": {},
   "source": [
    "# Fitting (or Training)\n",
    "This is the function that trains the model to the data given. Here, we'll calculate $|w|$ and create a dictionary in which the keys are values for $|w|$ and the values are the corresponding $[w, b]$. After that's done, we'll pick the minimum value of $|w|$. Also note that we're only considering integer values of $w$; this is done to cut on time, and since it works pretty well anyway."
   ]
  },
  {
   "cell_type": "code",
   "execution_count": 3,
   "metadata": {},
   "outputs": [],
   "source": [
    "%%add_to Support_Vector_Machine\n",
    "def fit(self, data):\n",
    "    self.data = data\n",
    "    mag_w = {} # Dictionary that'll store |w| and corresponding [w, b].\n",
    "    '''For any value of w = [w1, w2], |w| will be the same no matter whether w1 and w2 are positive or\n",
    "    negative as long as w1 and w2 have fixed magnitudes. So, the following list contains transformations\n",
    "    that can be done to check for all said combinations.'''\n",
    "    transforms = [[1, 1], [-1, 1], [-1, -1], [1, -1]]\n",
    "    \n",
    "    '''Now, let's find the maximum and minimum values of x. These will help define starting points and the\n",
    "    step-sizes.'''\n",
    "    self.max_feature_value = float('-inf')\n",
    "    self.min_feature_value = float('+inf')\n",
    "    for yi in data_dict:\n",
    "        if np.amax(data_dict[yi]) > self.max_feature_value:\n",
    "            self.max_feature_value = np.amax(data_dict[yi])\n",
    "        if np.amin(data_dict[yi]) < self.min_feature_value:\n",
    "            self.min_feature_value = np.amin(data_dict[yi])\n",
    "    \n",
    "    step_sizes = [self.max_feature_value * 0.1,\n",
    "                     self.max_feature_value * 0.01,\n",
    "                     self.max_feature_value * 0.001]\n",
    "    \n",
    "    b_range_multiple = 2\n",
    "    '''Taking steps for b is more computationally expensive; it's also not required to be as fine-grained\n",
    "    as in the case of w. Thus, while taking the steps, we'll go by a multiple of the step-sizes given to\n",
    "    w, and that multiple is being defined below.'''\n",
    "    b_multiple = 5\n",
    "    \n",
    "    latest_optimum = self.max_feature_value * 10\n",
    "    for step in step_sizes:\n",
    "        w = np.array([latest_optimum, latest_optimum])\n",
    "        optimized = False # This is possible because we know it's convex.\n",
    "        while not optimized:\n",
    "            for b in np.arange(-1 * self.max_feature_value * b_range_multiple,\n",
    "                               self.max_feature_value * b_range_multiple,\n",
    "                               step * b_multiple):\n",
    "                for transformation in transforms:\n",
    "                    w_transform = w * transformation\n",
    "                    found_option = True\n",
    "                    '''This is the weakest part of SVM -- having to run the calculation on all the data. SMO\n",
    "                    attempts to fix this, but can only go so far.'''\n",
    "                    for yi in self.data:\n",
    "                        for xi in self.data[yi]:\n",
    "                            if not yi*(np.dot(w_transform,xi)+b) >= 1:\n",
    "                                found_option = False\n",
    "                                break\n",
    "                    if found_option:\n",
    "                        mag_w[np.linalg.norm(w_transform)] = [w_transform, b] # norm() is the same as | |.\n",
    "            \n",
    "            if w[0] < 0:\n",
    "                optimized = True\n",
    "            else:\n",
    "                w -= step\n",
    "        \n",
    "        norms = sorted([n for n in mag_w])\n",
    "        min_w_mag = mag_w[norms[0]]\n",
    "        self.w = min_w_mag[0]\n",
    "        self.b = min_w_mag[1]\n",
    "        latest_optimum = min_w_mag[0][0] + step * 2"
   ]
  },
  {
   "cell_type": "markdown",
   "metadata": {},
   "source": [
    "# Predicting\n",
    "This method will predict the value of a new input. It will also add points to the plot using a different marker, so that we can see where the points are being graphed."
   ]
  },
  {
   "cell_type": "code",
   "execution_count": 4,
   "metadata": {},
   "outputs": [],
   "source": [
    "%%add_to Support_Vector_Machine\n",
    "def predict(self,features):\n",
    "    # sign(x . w + b)\n",
    "    classification = np.sign(np.dot(np.array(features), self.w) + self.b)\n",
    "    if classification != 0:\n",
    "        self.ax.scatter(features[0], features[1], s=200, marker='*', c=self.colors[classification])\n",
    "        # This just adds the test-set points to the same plot as stars.\n",
    "    return classification"
   ]
  },
  {
   "cell_type": "markdown",
   "metadata": {},
   "source": [
    "# Plotting\n",
    "Finally, this method is simply used to plot the hyperplane and the decision boundary. Note that this is only for the human; the model will work fine without this function."
   ]
  },
  {
   "cell_type": "code",
   "execution_count": 5,
   "metadata": {},
   "outputs": [],
   "source": [
    "%%add_to Support_Vector_Machine\n",
    "def visualize(self):\n",
    "    [[self.ax.scatter(x[0], x[1], s=100, color=self.colors[i]) for x in data_dict[i]] for i in data_dict]\n",
    "    def hyperplane(x, w, b, v):\n",
    "        '''Values of v:\n",
    "        psv -> 1\n",
    "        nsv -> -1\n",
    "        on db -> 0'''\n",
    "        return (v - w[0] * x - b) / w[1]\n",
    "    \n",
    "    # This is just to limit the graph to values outside the minimum and maximum.\n",
    "    hyp_x_min = self.min_feature_value * 0.9\n",
    "    hyp_x_max = self.max_feature_value * 1.1\n",
    "    \n",
    "    psv1 = hyperplane(hyp_x_min, self.w, self.b, 1)\n",
    "    psv2 = hyperplane(hyp_x_max, self.w, self.b, 1)\n",
    "    self.ax.plot([hyp_x_min, hyp_x_max], [psv1, psv2], 'k')\n",
    "    \n",
    "    nsv1 = hyperplane(hyp_x_min, self.w, self.b, -1)\n",
    "    nsv2 = hyperplane(hyp_x_max, self.w, self.b, -1)\n",
    "    self.ax.plot([hyp_x_min, hyp_x_max], [nsv1, nsv2], 'k')\n",
    "    \n",
    "    db1 = hyperplane(hyp_x_min, self.w, self.b, 0)\n",
    "    db2 = hyperplane(hyp_x_max, self.w, self.b, 0)\n",
    "    self.ax.plot([hyp_x_min, hyp_x_max], [db1, db2], 'y--')\n",
    "    \n",
    "    plt.show()"
   ]
  },
  {
   "cell_type": "markdown",
   "metadata": {},
   "source": [
    "# Testing\n",
    "We're done! Now, we'll just give some inputs and see whether or not it works."
   ]
  },
  {
   "cell_type": "code",
   "execution_count": 6,
   "metadata": {},
   "outputs": [
    {
     "data": {
      "image/png": "[encoded data removed]",
      "text/plain": [
       "<Figure size 432x288 with 1 Axes>"
      ]
     },
     "metadata": {
      "needs_background": "light"
     },
     "output_type": "display_data"
    }
   ],
   "source": [
    "data_dict = {-1: np.array([[1, 7],\n",
    "                          [2, 8],\n",
    "                          [3, 8]]),\n",
    "             1: np.array([[5, 1],\n",
    "                         [6, -1],\n",
    "                         [7, 3]])}\n",
    "\n",
    "m = Support_Vector_Machine()\n",
    "m.fit(data_dict)\n",
    "\n",
    "predict_this = [[0, 10],\n",
    "              [1, 3],\n",
    "              [3, 4],\n",
    "              [3, 5],\n",
    "              [5, 5],\n",
    "              [5, 6],\n",
    "              [6, -5],\n",
    "              [5, 8]]\n",
    "\n",
    "for p in predict_this:\n",
    "    m.predict(p)\n",
    "\n",
    "m.visualize()"
   ]
  },
  {
   "cell_type": "markdown",
   "metadata": {},
   "source": [
    "This code was written with the help of the sentdex YouTube channel; check him out: https://www.youtube.com/user/sentdex\n",
    "\n",
    "An amazing SVM lecture: https://youtu.be/_PwhiWxHK8o\n",
    "\n",
    "The accompanying mega-recitation: https://youtu.be/6nDqY8MPLDM"
   ]
  }
 ],
 "metadata": {
  "kernelspec": {
   "display_name": "Python 3",
   "language": "python",
   "name": "python3"
  },
  "language_info": {
   "codemirror_mode": {
    "name": "ipython",
    "version": 3
   },
   "file_extension": ".py",
   "mimetype": "text/x-python",
   "name": "python",
   "nbconvert_exporter": "python",
   "pygments_lexer": "ipython3",
   "version": "3.7.1"
  }
 },
 "nbformat": 4,
 "nbformat_minor": 2
}
