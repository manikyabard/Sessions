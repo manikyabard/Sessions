{
 "cells": [
  {
   "cell_type": "markdown",
   "metadata": {},
   "source": [
    "# MULTIVARIATE REGRESSION"
   ]
  },
  {
   "cell_type": "markdown",
   "metadata": {},
   "source": [
    "## Import the modules"
   ]
  },
  {
   "cell_type": "code",
   "execution_count": 2,
   "metadata": {},
   "outputs": [],
   "source": [
    "import numpy as np\n",
    "import pandas as pd\n",
    "import matplotlib.pyplot as plt\n",
    "%matplotlib inline"
   ]
  },
  {
   "cell_type": "code",
   "execution_count": 3,
   "metadata": {},
   "outputs": [
    {
     "data": {
      "text/html": [
       "<div>\n",
       "<style scoped>\n",
       "    .dataframe tbody tr th:only-of-type {\n",
       "        vertical-align: middle;\n",
       "    }\n",
       "\n",
       "    .dataframe tbody tr th {\n",
       "        vertical-align: top;\n",
       "    }\n",
       "\n",
       "    .dataframe thead th {\n",
       "        text-align: right;\n",
       "    }\n",
       "</style>\n",
       "<table border=\"1\" class=\"dataframe\">\n",
       "  <thead>\n",
       "    <tr style=\"text-align: right;\">\n",
       "      <th></th>\n",
       "      <th>size</th>\n",
       "      <th>bedroom</th>\n",
       "      <th>price</th>\n",
       "    </tr>\n",
       "  </thead>\n",
       "  <tbody>\n",
       "    <tr>\n",
       "      <th>0</th>\n",
       "      <td>2104</td>\n",
       "      <td>3</td>\n",
       "      <td>399900</td>\n",
       "    </tr>\n",
       "    <tr>\n",
       "      <th>1</th>\n",
       "      <td>1600</td>\n",
       "      <td>3</td>\n",
       "      <td>329900</td>\n",
       "    </tr>\n",
       "    <tr>\n",
       "      <th>2</th>\n",
       "      <td>2400</td>\n",
       "      <td>3</td>\n",
       "      <td>369000</td>\n",
       "    </tr>\n",
       "    <tr>\n",
       "      <th>3</th>\n",
       "      <td>1416</td>\n",
       "      <td>2</td>\n",
       "      <td>232000</td>\n",
       "    </tr>\n",
       "    <tr>\n",
       "      <th>4</th>\n",
       "      <td>3000</td>\n",
       "      <td>4</td>\n",
       "      <td>539900</td>\n",
       "    </tr>\n",
       "    <tr>\n",
       "      <th>5</th>\n",
       "      <td>1985</td>\n",
       "      <td>4</td>\n",
       "      <td>299900</td>\n",
       "    </tr>\n",
       "    <tr>\n",
       "      <th>6</th>\n",
       "      <td>1534</td>\n",
       "      <td>3</td>\n",
       "      <td>314900</td>\n",
       "    </tr>\n",
       "    <tr>\n",
       "      <th>7</th>\n",
       "      <td>1427</td>\n",
       "      <td>3</td>\n",
       "      <td>198999</td>\n",
       "    </tr>\n",
       "    <tr>\n",
       "      <th>8</th>\n",
       "      <td>1380</td>\n",
       "      <td>3</td>\n",
       "      <td>212000</td>\n",
       "    </tr>\n",
       "    <tr>\n",
       "      <th>9</th>\n",
       "      <td>1494</td>\n",
       "      <td>3</td>\n",
       "      <td>242500</td>\n",
       "    </tr>\n",
       "    <tr>\n",
       "      <th>10</th>\n",
       "      <td>1940</td>\n",
       "      <td>4</td>\n",
       "      <td>239999</td>\n",
       "    </tr>\n",
       "    <tr>\n",
       "      <th>11</th>\n",
       "      <td>2000</td>\n",
       "      <td>3</td>\n",
       "      <td>347000</td>\n",
       "    </tr>\n",
       "    <tr>\n",
       "      <th>12</th>\n",
       "      <td>1890</td>\n",
       "      <td>3</td>\n",
       "      <td>329999</td>\n",
       "    </tr>\n",
       "    <tr>\n",
       "      <th>13</th>\n",
       "      <td>4478</td>\n",
       "      <td>5</td>\n",
       "      <td>699900</td>\n",
       "    </tr>\n",
       "    <tr>\n",
       "      <th>14</th>\n",
       "      <td>1268</td>\n",
       "      <td>3</td>\n",
       "      <td>259900</td>\n",
       "    </tr>\n",
       "    <tr>\n",
       "      <th>15</th>\n",
       "      <td>2300</td>\n",
       "      <td>4</td>\n",
       "      <td>449900</td>\n",
       "    </tr>\n",
       "    <tr>\n",
       "      <th>16</th>\n",
       "      <td>1320</td>\n",
       "      <td>2</td>\n",
       "      <td>299900</td>\n",
       "    </tr>\n",
       "    <tr>\n",
       "      <th>17</th>\n",
       "      <td>1236</td>\n",
       "      <td>3</td>\n",
       "      <td>199900</td>\n",
       "    </tr>\n",
       "    <tr>\n",
       "      <th>18</th>\n",
       "      <td>2609</td>\n",
       "      <td>4</td>\n",
       "      <td>499998</td>\n",
       "    </tr>\n",
       "    <tr>\n",
       "      <th>19</th>\n",
       "      <td>3031</td>\n",
       "      <td>4</td>\n",
       "      <td>599000</td>\n",
       "    </tr>\n",
       "    <tr>\n",
       "      <th>20</th>\n",
       "      <td>1767</td>\n",
       "      <td>3</td>\n",
       "      <td>252900</td>\n",
       "    </tr>\n",
       "    <tr>\n",
       "      <th>21</th>\n",
       "      <td>1888</td>\n",
       "      <td>2</td>\n",
       "      <td>255000</td>\n",
       "    </tr>\n",
       "    <tr>\n",
       "      <th>22</th>\n",
       "      <td>1604</td>\n",
       "      <td>3</td>\n",
       "      <td>242900</td>\n",
       "    </tr>\n",
       "    <tr>\n",
       "      <th>23</th>\n",
       "      <td>1962</td>\n",
       "      <td>4</td>\n",
       "      <td>259900</td>\n",
       "    </tr>\n",
       "    <tr>\n",
       "      <th>24</th>\n",
       "      <td>3890</td>\n",
       "      <td>3</td>\n",
       "      <td>573900</td>\n",
       "    </tr>\n",
       "    <tr>\n",
       "      <th>25</th>\n",
       "      <td>1100</td>\n",
       "      <td>3</td>\n",
       "      <td>249900</td>\n",
       "    </tr>\n",
       "    <tr>\n",
       "      <th>26</th>\n",
       "      <td>1458</td>\n",
       "      <td>3</td>\n",
       "      <td>464500</td>\n",
       "    </tr>\n",
       "    <tr>\n",
       "      <th>27</th>\n",
       "      <td>2526</td>\n",
       "      <td>3</td>\n",
       "      <td>469000</td>\n",
       "    </tr>\n",
       "    <tr>\n",
       "      <th>28</th>\n",
       "      <td>2200</td>\n",
       "      <td>3</td>\n",
       "      <td>475000</td>\n",
       "    </tr>\n",
       "    <tr>\n",
       "      <th>29</th>\n",
       "      <td>2637</td>\n",
       "      <td>3</td>\n",
       "      <td>299900</td>\n",
       "    </tr>\n",
       "    <tr>\n",
       "      <th>30</th>\n",
       "      <td>1839</td>\n",
       "      <td>2</td>\n",
       "      <td>349900</td>\n",
       "    </tr>\n",
       "    <tr>\n",
       "      <th>31</th>\n",
       "      <td>1000</td>\n",
       "      <td>1</td>\n",
       "      <td>169900</td>\n",
       "    </tr>\n",
       "    <tr>\n",
       "      <th>32</th>\n",
       "      <td>2040</td>\n",
       "      <td>4</td>\n",
       "      <td>314900</td>\n",
       "    </tr>\n",
       "    <tr>\n",
       "      <th>33</th>\n",
       "      <td>3137</td>\n",
       "      <td>3</td>\n",
       "      <td>579900</td>\n",
       "    </tr>\n",
       "    <tr>\n",
       "      <th>34</th>\n",
       "      <td>1811</td>\n",
       "      <td>4</td>\n",
       "      <td>285900</td>\n",
       "    </tr>\n",
       "    <tr>\n",
       "      <th>35</th>\n",
       "      <td>1437</td>\n",
       "      <td>3</td>\n",
       "      <td>249900</td>\n",
       "    </tr>\n",
       "    <tr>\n",
       "      <th>36</th>\n",
       "      <td>1239</td>\n",
       "      <td>3</td>\n",
       "      <td>229900</td>\n",
       "    </tr>\n",
       "    <tr>\n",
       "      <th>37</th>\n",
       "      <td>2132</td>\n",
       "      <td>4</td>\n",
       "      <td>345000</td>\n",
       "    </tr>\n",
       "    <tr>\n",
       "      <th>38</th>\n",
       "      <td>4215</td>\n",
       "      <td>4</td>\n",
       "      <td>549000</td>\n",
       "    </tr>\n",
       "    <tr>\n",
       "      <th>39</th>\n",
       "      <td>2162</td>\n",
       "      <td>4</td>\n",
       "      <td>287000</td>\n",
       "    </tr>\n",
       "    <tr>\n",
       "      <th>40</th>\n",
       "      <td>1664</td>\n",
       "      <td>2</td>\n",
       "      <td>368500</td>\n",
       "    </tr>\n",
       "    <tr>\n",
       "      <th>41</th>\n",
       "      <td>2238</td>\n",
       "      <td>3</td>\n",
       "      <td>329900</td>\n",
       "    </tr>\n",
       "    <tr>\n",
       "      <th>42</th>\n",
       "      <td>2567</td>\n",
       "      <td>4</td>\n",
       "      <td>314000</td>\n",
       "    </tr>\n",
       "    <tr>\n",
       "      <th>43</th>\n",
       "      <td>1200</td>\n",
       "      <td>3</td>\n",
       "      <td>299000</td>\n",
       "    </tr>\n",
       "    <tr>\n",
       "      <th>44</th>\n",
       "      <td>852</td>\n",
       "      <td>2</td>\n",
       "      <td>179900</td>\n",
       "    </tr>\n",
       "    <tr>\n",
       "      <th>45</th>\n",
       "      <td>1852</td>\n",
       "      <td>4</td>\n",
       "      <td>299900</td>\n",
       "    </tr>\n",
       "    <tr>\n",
       "      <th>46</th>\n",
       "      <td>1203</td>\n",
       "      <td>3</td>\n",
       "      <td>239500</td>\n",
       "    </tr>\n",
       "  </tbody>\n",
       "</table>\n",
       "</div>"
      ],
      "text/plain": [
       "    size  bedroom   price\n",
       "0   2104        3  399900\n",
       "1   1600        3  329900\n",
       "2   2400        3  369000\n",
       "3   1416        2  232000\n",
       "4   3000        4  539900\n",
       "5   1985        4  299900\n",
       "6   1534        3  314900\n",
       "7   1427        3  198999\n",
       "8   1380        3  212000\n",
       "9   1494        3  242500\n",
       "10  1940        4  239999\n",
       "11  2000        3  347000\n",
       "12  1890        3  329999\n",
       "13  4478        5  699900\n",
       "14  1268        3  259900\n",
       "15  2300        4  449900\n",
       "16  1320        2  299900\n",
       "17  1236        3  199900\n",
       "18  2609        4  499998\n",
       "19  3031        4  599000\n",
       "20  1767        3  252900\n",
       "21  1888        2  255000\n",
       "22  1604        3  242900\n",
       "23  1962        4  259900\n",
       "24  3890        3  573900\n",
       "25  1100        3  249900\n",
       "26  1458        3  464500\n",
       "27  2526        3  469000\n",
       "28  2200        3  475000\n",
       "29  2637        3  299900\n",
       "30  1839        2  349900\n",
       "31  1000        1  169900\n",
       "32  2040        4  314900\n",
       "33  3137        3  579900\n",
       "34  1811        4  285900\n",
       "35  1437        3  249900\n",
       "36  1239        3  229900\n",
       "37  2132        4  345000\n",
       "38  4215        4  549000\n",
       "39  2162        4  287000\n",
       "40  1664        2  368500\n",
       "41  2238        3  329900\n",
       "42  2567        4  314000\n",
       "43  1200        3  299000\n",
       "44   852        2  179900\n",
       "45  1852        4  299900\n",
       "46  1203        3  239500"
      ]
     },
     "execution_count": 3,
     "metadata": {},
     "output_type": "execute_result"
    }
   ],
   "source": [
    "housing = pd.read_csv('dataMVR.txt', names=['size', 'bedroom', 'price'])\n",
    "housing"
   ]
  },
  {
   "cell_type": "code",
   "execution_count": 45,
   "metadata": {
    "scrolled": true
   },
   "outputs": [
    {
     "data": {
      "text/html": [
       "<div>\n",
       "<style scoped>\n",
       "    .dataframe tbody tr th:only-of-type {\n",
       "        vertical-align: middle;\n",
       "    }\n",
       "\n",
       "    .dataframe tbody tr th {\n",
       "        vertical-align: top;\n",
       "    }\n",
       "\n",
       "    .dataframe thead th {\n",
       "        text-align: right;\n",
       "    }\n",
       "</style>\n",
       "<table border=\"1\" class=\"dataframe\">\n",
       "  <thead>\n",
       "    <tr style=\"text-align: right;\">\n",
       "      <th></th>\n",
       "      <th>size</th>\n",
       "      <th>bedroom</th>\n",
       "      <th>price</th>\n",
       "    </tr>\n",
       "  </thead>\n",
       "  <tbody>\n",
       "    <tr>\n",
       "      <th>0</th>\n",
       "      <td>0.130010</td>\n",
       "      <td>-0.223675</td>\n",
       "      <td>0.475747</td>\n",
       "    </tr>\n",
       "    <tr>\n",
       "      <th>1</th>\n",
       "      <td>-0.504190</td>\n",
       "      <td>-0.223675</td>\n",
       "      <td>-0.084074</td>\n",
       "    </tr>\n",
       "    <tr>\n",
       "      <th>2</th>\n",
       "      <td>0.502476</td>\n",
       "      <td>-0.223675</td>\n",
       "      <td>0.228626</td>\n",
       "    </tr>\n",
       "    <tr>\n",
       "      <th>3</th>\n",
       "      <td>-0.735723</td>\n",
       "      <td>-1.537767</td>\n",
       "      <td>-0.867025</td>\n",
       "    </tr>\n",
       "    <tr>\n",
       "      <th>4</th>\n",
       "      <td>1.257476</td>\n",
       "      <td>1.090417</td>\n",
       "      <td>1.595389</td>\n",
       "    </tr>\n",
       "  </tbody>\n",
       "</table>\n",
       "</div>"
      ],
      "text/plain": [
       "       size   bedroom     price\n",
       "0  0.130010 -0.223675  0.475747\n",
       "1 -0.504190 -0.223675 -0.084074\n",
       "2  0.502476 -0.223675  0.228626\n",
       "3 -0.735723 -1.537767 -0.867025\n",
       "4  1.257476  1.090417  1.595389"
      ]
     },
     "execution_count": 45,
     "metadata": {},
     "output_type": "execute_result"
    }
   ],
   "source": [
    "housing.head()"
   ]
  },
  {
   "cell_type": "markdown",
   "metadata": {},
   "source": [
    "## Normalization"
   ]
  },
  {
   "cell_type": "code",
   "execution_count": 5,
   "metadata": {},
   "outputs": [],
   "source": [
    "housing = (housing - housing.mean())/housing.std()"
   ]
  },
  {
   "cell_type": "code",
   "execution_count": 37,
   "metadata": {
    "scrolled": true
   },
   "outputs": [
    {
     "name": "stdout",
     "output_type": "stream",
     "text": [
      "        size   bedroom\n",
      "0   0.130010 -0.223675\n",
      "1  -0.504190 -0.223675\n",
      "2   0.502476 -0.223675\n",
      "3  -0.735723 -1.537767\n",
      "4   1.257476  1.090417\n",
      "5  -0.019732  1.090417\n",
      "6  -0.587240 -0.223675\n",
      "7  -0.721881 -0.223675\n",
      "8  -0.781023 -0.223675\n",
      "9  -0.637573 -0.223675\n",
      "10 -0.076357  1.090417\n",
      "11 -0.000857 -0.223675\n",
      "12 -0.139273 -0.223675\n",
      "13  3.117292  2.404508\n",
      "14 -0.921956 -0.223675\n",
      "15  0.376643  1.090417\n",
      "16 -0.856523 -1.537767\n",
      "17 -0.962223 -0.223675\n",
      "18  0.765468  1.090417\n",
      "19  1.296484  1.090417\n",
      "20 -0.294048 -0.223675\n",
      "21 -0.141790 -1.537767\n",
      "22 -0.499157 -0.223675\n",
      "23 -0.048673  1.090417\n",
      "24  2.377392 -0.223675\n",
      "25 -1.133356 -0.223675\n",
      "26 -0.682873 -0.223675\n",
      "27  0.661026 -0.223675\n",
      "28  0.250810 -0.223675\n",
      "29  0.800701 -0.223675\n",
      "30 -0.203448 -1.537767\n",
      "31 -1.259189 -2.851859\n",
      "32  0.049477  1.090417\n",
      "33  1.429868 -0.223675\n",
      "34 -0.238682  1.090417\n",
      "35 -0.709298 -0.223675\n",
      "36 -0.958448 -0.223675\n",
      "37  0.165243  1.090417\n",
      "38  2.786350  1.090417\n",
      "39  0.202993  1.090417\n",
      "40 -0.423657 -1.537767\n",
      "41  0.298626 -0.223675\n",
      "42  0.712618  1.090417\n",
      "43 -1.007523 -0.223675\n",
      "44 -1.445423 -1.537767\n",
      "45 -0.187090  1.090417\n",
      "46 -1.003748 -0.223675\n",
      "[[ 1.00000000e+00  1.30009869e-01 -2.23675187e-01]\n",
      " [ 1.00000000e+00 -5.04189838e-01 -2.23675187e-01]\n",
      " [ 1.00000000e+00  5.02476364e-01 -2.23675187e-01]\n",
      " [ 1.00000000e+00 -7.35723065e-01 -1.53776691e+00]\n",
      " [ 1.00000000e+00  1.25747602e+00  1.09041654e+00]\n",
      " [ 1.00000000e+00 -1.97317285e-02  1.09041654e+00]\n",
      " [ 1.00000000e+00 -5.87239800e-01 -2.23675187e-01]\n",
      " [ 1.00000000e+00 -7.21881404e-01 -2.23675187e-01]\n",
      " [ 1.00000000e+00 -7.81023044e-01 -2.23675187e-01]\n",
      " [ 1.00000000e+00 -6.37573110e-01 -2.23675187e-01]\n",
      " [ 1.00000000e+00 -7.63567023e-02  1.09041654e+00]\n",
      " [ 1.00000000e+00 -8.56737193e-04 -2.23675187e-01]\n",
      " [ 1.00000000e+00 -1.39273340e-01 -2.23675187e-01]\n",
      " [ 1.00000000e+00  3.11729182e+00  2.40450826e+00]\n",
      " [ 1.00000000e+00 -9.21956312e-01 -2.23675187e-01]\n",
      " [ 1.00000000e+00  3.76643089e-01  1.09041654e+00]\n",
      " [ 1.00000000e+00 -8.56523009e-01 -1.53776691e+00]\n",
      " [ 1.00000000e+00 -9.62222960e-01 -2.23675187e-01]\n",
      " [ 1.00000000e+00  7.65467909e-01  1.09041654e+00]\n",
      " [ 1.00000000e+00  1.29648433e+00  1.09041654e+00]\n",
      " [ 1.00000000e+00 -2.94048269e-01 -2.23675187e-01]\n",
      " [ 1.00000000e+00 -1.41790005e-01 -1.53776691e+00]\n",
      " [ 1.00000000e+00 -4.99156507e-01 -2.23675187e-01]\n",
      " [ 1.00000000e+00 -4.86733818e-02  1.09041654e+00]\n",
      " [ 1.00000000e+00  2.37739217e+00 -2.23675187e-01]\n",
      " [ 1.00000000e+00 -1.13335621e+00 -2.23675187e-01]\n",
      " [ 1.00000000e+00 -6.82873089e-01 -2.23675187e-01]\n",
      " [ 1.00000000e+00  6.61026291e-01 -2.23675187e-01]\n",
      " [ 1.00000000e+00  2.50809813e-01 -2.23675187e-01]\n",
      " [ 1.00000000e+00  8.00701226e-01 -2.23675187e-01]\n",
      " [ 1.00000000e+00 -2.03448310e-01 -1.53776691e+00]\n",
      " [ 1.00000000e+00 -1.25918949e+00 -2.85185864e+00]\n",
      " [ 1.00000000e+00  4.94765729e-02  1.09041654e+00]\n",
      " [ 1.00000000e+00  1.42986760e+00 -2.23675187e-01]\n",
      " [ 1.00000000e+00 -2.38681627e-01  1.09041654e+00]\n",
      " [ 1.00000000e+00 -7.09298077e-01 -2.23675187e-01]\n",
      " [ 1.00000000e+00 -9.58447962e-01 -2.23675187e-01]\n",
      " [ 1.00000000e+00  1.65243186e-01  1.09041654e+00]\n",
      " [ 1.00000000e+00  2.78635031e+00  1.09041654e+00]\n",
      " [ 1.00000000e+00  2.02993169e-01  1.09041654e+00]\n",
      " [ 1.00000000e+00 -4.23656542e-01 -1.53776691e+00]\n",
      " [ 1.00000000e+00  2.98626458e-01 -2.23675187e-01]\n",
      " [ 1.00000000e+00  7.12617934e-01  1.09041654e+00]\n",
      " [ 1.00000000e+00 -1.00752294e+00 -2.23675187e-01]\n",
      " [ 1.00000000e+00 -1.44542274e+00 -1.53776691e+00]\n",
      " [ 1.00000000e+00 -1.87089985e-01  1.09041654e+00]\n",
      " [ 1.00000000e+00 -1.00374794e+00 -2.23675187e-01]]\n"
     ]
    }
   ],
   "source": [
    "X = housing.iloc[:,0:2]\n",
    "ones = np.ones([X.shape[0],1])\n",
    "X = np.concatenate((ones,X),axis=1)"
   ]
  },
  {
   "cell_type": "markdown",
   "metadata": {},
   "source": [
    "## Hyper Parameters"
   ]
  },
  {
   "cell_type": "code",
   "execution_count": 7,
   "metadata": {},
   "outputs": [],
   "source": [
    "alpha = 0.01\n",
    "iters = 1000"
   ]
  },
  {
   "cell_type": "code",
   "execution_count": 8,
   "metadata": {},
   "outputs": [],
   "source": [
    "y = housing.iloc[:,2:3].values\n",
    "theta = np.zeros([1,3])\n",
    "output = np.zeros(3000).reshape(iters, 3)"
   ]
  },
  {
   "cell_type": "markdown",
   "metadata": {},
   "source": [
    "## cost function"
   ]
  },
  {
   "cell_type": "code",
   "execution_count": 9,
   "metadata": {},
   "outputs": [],
   "source": [
    "def computeCost(X,y,theta):\n",
    "    tobesummed = np.power(((X @ theta.T)-y),2)\n",
    "    return np.sum(tobesummed)/(2 * len(X))"
   ]
  },
  {
   "cell_type": "markdown",
   "metadata": {},
   "source": [
    "## Gradient Descent"
   ]
  },
  {
   "cell_type": "code",
   "execution_count": 28,
   "metadata": {},
   "outputs": [],
   "source": [
    "def gradientDescent(X,y,theta,iters,alpha):\n",
    "    cost = np.zeros(iters)\n",
    "    for i in range(iters):\n",
    "        theta = theta - ((alpha) * (np.sum(X * (X @ theta.T - y), axis=0)/len(X)))\n",
    "        cost[i] = computeCost(X, y, theta)\n",
    "        output[i] = theta\n",
    "        \n",
    "    \n",
    "    return theta,cost"
   ]
  },
  {
   "cell_type": "code",
   "execution_count": 33,
   "metadata": {},
   "outputs": [
    {
     "name": "stdout",
     "output_type": "stream",
     "text": [
      "[[-1.03173971e-16  8.78503652e-01 -4.69166570e-02]]\n"
     ]
    }
   ],
   "source": [
    "g,cost = gradientDescent(X,y,theta,iters,alpha)\n",
    "print(g)"
   ]
  },
  {
   "cell_type": "code",
   "execution_count": 31,
   "metadata": {},
   "outputs": [
    {
     "name": "stdout",
     "output_type": "stream",
     "text": [
      "Predicted Output: 0.13070336960771892\n"
     ]
    }
   ],
   "source": [
    "finalCost = computeCost(X,y,g)\n",
    "print(\"Predicted Output: \" + str(finalCost))"
   ]
  },
  {
   "cell_type": "code",
   "execution_count": 13,
   "metadata": {},
   "outputs": [
    {
     "data": {
      "text/plain": [
       "Text(0.5, 1.0, 'Error vs. Training')"
      ]
     },
     "execution_count": 13,
     "metadata": {},
     "output_type": "execute_result"
    },
    {
     "data": {
      "image/png": "[encoded data removed]",
      "text/plain": [
       "<Figure size 648x576 with 1 Axes>"
      ]
     },
     "metadata": {
      "needs_background": "light"
     },
     "output_type": "display_data"
    }
   ],
   "source": [
    "fig, ax = plt.subplots(figsize=(9,8))  \n",
    "ax.plot(np.arange(iters), cost, 'blue', linewidth=4)  \n",
    "ax.set_xlabel('Iterations')  \n",
    "ax.set_ylabel('Cost')  \n",
    "ax.set_title('Error vs. Training')  "
   ]
  },
  {
   "cell_type": "code",
   "execution_count": 14,
   "metadata": {},
   "outputs": [
    {
     "data": {
      "text/plain": [
       "<matplotlib.legend.Legend at 0x7f996ee27908>"
      ]
     },
     "execution_count": 14,
     "metadata": {},
     "output_type": "execute_result"
    },
    {
     "data": {
      "image/png": "[encoded data removed]",
      "text/plain": [
       "<Figure size 504x648 with 2 Axes>"
      ]
     },
     "metadata": {
      "needs_background": "light"
     },
     "output_type": "display_data"
    }
   ],
   "source": [
    "fig = plt.figure(figsize = (7, 9))\n",
    "ax = fig.add_subplot(2, 1, 2)\n",
    "ax1 = fig.add_subplot(2, 1, 1)\n",
    "ax.plot(np.arange(iters), output[:, 0], c=\"red\", linewidth=3, label=\"Size\")\n",
    "ax.set_xlabel(\"Size\")\n",
    "ax.tick_params(left=False, bottom=False)\n",
    "ax.spines[\"top\"].set_visible(False)\n",
    "ax.spines[\"right\"].set_visible(False)\n",
    "ax.legend([\"Size\"])\n",
    "\n",
    "ax1.plot(np.arange(iters), output[:, 1], c=\"green\", label=\"Size\")\n",
    "ax1.set_xlabel(\"Rooms\")\n",
    "ax1.tick_params(left=False, bottom=False)\n",
    "ax1.spines[\"right\"].set_visible(False)\n",
    "ax1.spines[\"bottom\"].set_visible(False)\n",
    "ax1.legend([\"Room\"])"
   ]
  },
  {
   "cell_type": "raw",
   "metadata": {},
   "source": [
    "Compute cost by giving input"
   ]
  },
  {
   "cell_type": "code",
   "execution_count": 46,
   "metadata": {},
   "outputs": [],
   "source": [
    "def predic(size,room):\n",
    "    inp=np.array([1,size,room])\n",
    "    predic=np.dot(g,inp)\n",
    "    return predic"
   ]
  },
  {
   "cell_type": "code",
   "execution_count": 47,
   "metadata": {},
   "outputs": [
    {
     "name": "stdout",
     "output_type": "stream",
     "text": [
      "enter size: 2000\n",
      "enter number of rooms: 3\n",
      "[1756.86655447]\n"
     ]
    }
   ],
   "source": [
    "size=int(input(\"enter size: \"))\n",
    "room=int(input(\"enter number of rooms: \"))\n",
    "print(predic(size,room))"
   ]
  },
  {
   "cell_type": "code",
   "execution_count": null,
   "metadata": {},
   "outputs": [],
   "source": []
  }
 ],
 "metadata": {
  "kernelspec": {
   "display_name": "Python 3",
   "language": "python",
   "name": "python3"
  },
  "language_info": {
   "codemirror_mode": {
    "name": "ipython",
    "version": 3
   },
   "file_extension": ".py",
   "mimetype": "text/x-python",
   "name": "python",
   "nbconvert_exporter": "python",
   "pygments_lexer": "ipython3",
   "version": "3.7.1"
  }
 },
 "nbformat": 4,
 "nbformat_minor": 2
}
