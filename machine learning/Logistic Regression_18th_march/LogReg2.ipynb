{
 "cells": [
  {
   "cell_type": "code",
   "execution_count": 5,
   "metadata": {},
   "outputs": [
    {
     "data": {
      "image/png": "[encoded data removed]",
      "text/plain": [
       "<Figure size 432x288 with 1 Axes>"
      ]
     },
     "metadata": {},
     "output_type": "display_data"
    },
    {
     "name": "stdout",
     "output_type": "stream",
     "text": [
      "Probability of admission: 0.019615\n",
      "Train Accuracy: 89.0\n"
     ]
    }
   ],
   "source": [
    "import numpy as np\n",
    "import matplotlib.pyplot as plt\n",
    "from numpy import loadtxt, where, zeros, array, log, ones, mean\n",
    "from pylab import scatter, show, legend, xlabel, ylabel, plot\n",
    "from scipy.optimize import fmin_bfgs\n",
    "import math \n",
    "\n",
    "def sigmoid(X):\n",
    "   g=1/(1+np.exp(-X))\n",
    "   return g\n",
    "\n",
    "def costFunction(theta,X,y):\n",
    "   theta.shape = (1, 3)\n",
    "   m = y.size\n",
    "   h = sigmoid(X.dot(theta.transpose()))\n",
    "   first = ((-y).T.dot(log(h)))\n",
    "   second = (1-y).T.dot(log(1-h))\n",
    "   J =(first - second)/m\n",
    "   return J.sum()\n",
    "\n",
    "def gradFunction(theta,X,y):\n",
    "   theta.shape = (1, 3)\n",
    "   grad = zeros(3)\n",
    "   h = sigmoid(X.dot(theta.transpose()))\n",
    "   delta = h - y\n",
    "   l = grad.size\n",
    "   for i in range(l):\n",
    "      sumdelta = delta.transpose().dot(X[:, i])\n",
    "      grad[i] = (1.0 / m) * sumdelta * (-1)\n",
    "   theta.shape = (3)\n",
    "   return grad\n",
    "\n",
    "data = loadtxt('LRD.txt', delimiter=',')\n",
    "X = data[:, 0:2]\n",
    "y =  data[:, 2]\n",
    "pos = where(y == 1)\n",
    "neg = where(y == 0)\n",
    "scatter(X[pos, 0], X[pos, 1], marker='o', c='b')\n",
    "scatter(X[neg, 0], X[neg, 1], marker='x', c='r')\n",
    "xlabel('Marks In Test 1')\n",
    "ylabel('Marks In Test 2')\n",
    "legend(['X', 'Y'])\n",
    "\n",
    "m, n = X.shape\n",
    "y.shape = (m, 1)\n",
    "i = ones(shape=(m, 3))\n",
    "i[:, 1:3] = X\n",
    "\n",
    "def learning_parameters(i, y):\n",
    "    def f(theta):\n",
    "        return costFunction(theta, i, y)\n",
    "\n",
    "    def fprime(theta):\n",
    "        return gradFunction(theta, i, y)\n",
    "    theta = zeros(3)\n",
    "    return fmin_bfgs(f, theta, fprime, disp=False, maxiter=400)\n",
    "\n",
    "learning_parameters(i, y)\n",
    "theta = [-25.161272, 0.206233, 0.201470]\n",
    "\n",
    "plot_x = array([min(i[:, 1]) - 2, max(i[:, 2]) + 2])\n",
    "plot_y = (-1/theta[2]) * (theta[1] * plot_x + theta[0])\n",
    "\n",
    "plot(plot_x, plot_y)\n",
    "legend(['Decision', 'Admitted', 'Not-Admitted'])\n",
    "show()\n",
    "\n",
    "prob = sigmoid(array([1.0, 20.0, 85.0]).dot(array(theta).transpose()))\n",
    "print('Probability of admission: %f' % prob)\n",
    "\n",
    "def predict(theta,X):\n",
    "   m, n = X.shape\n",
    "   p = zeros(shape=(m, 1))\n",
    "   h = sigmoid(X.dot(theta.transpose()))\n",
    "\n",
    "   for i in range(0, h.shape[0]):\n",
    "        if h[i] > 0.5:\n",
    "            p[i, 0] = 1\n",
    "        else:\n",
    "            p[i, 0] = 0\n",
    "   return p\n",
    "\n",
    "p = predict(array(theta), i)\n",
    "print(\"Train Accuracy:\",((y[where(p == y)].size / float(y.size)) * 100.0))"
   ]
  },
  {
   "cell_type": "code",
   "execution_count": null,
   "metadata": {},
   "outputs": [],
   "source": []
  }
 ],
 "metadata": {
  "kernelspec": {
   "display_name": "Python 3",
   "language": "python",
   "name": "python3"
  },
  "language_info": {
   "codemirror_mode": {
    "name": "ipython",
    "version": 3
   },
   "file_extension": ".py",
   "mimetype": "text/x-python",
   "name": "python",
   "nbconvert_exporter": "python",
   "pygments_lexer": "ipython3",
   "version": "3.6.5"
  }
 },
 "nbformat": 4,
 "nbformat_minor": 2
}
